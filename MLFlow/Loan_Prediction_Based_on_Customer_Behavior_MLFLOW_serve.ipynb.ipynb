{
 "cells": [
  {
   "cell_type": "code",
   "execution_count": 1,
   "id": "f81df8ab-95c9-4746-bea0-14a0c8d6486a",
   "metadata": {},
   "outputs": [],
   "source": [
    "import os\n",
    "os.environ['GIT_PYTHON_REFRESH']='quiet'\n",
    "os.environ['MLFLOW_TRACKING_URI']='file:///Users/JANARDHAN/Documents/Janardhan/m1/e1'"
   ]
  },
  {
   "cell_type": "code",
   "execution_count": 2,
   "id": "fedd7b14-0d1f-4b17-be6e-7b3700d108bb",
   "metadata": {},
   "outputs": [
    {
     "name": "stdout",
     "output_type": "stream",
     "text": [
      "                             run_id       experiment_id    status  \\\n",
      "0  b1ca96bfa6734ebba952082484b5093c  764210923214785047  FINISHED   \n",
      "1  8f7d84ccc77c415d9b1b63e4f43a638f  764210923214785047    FAILED   \n",
      "2  f0f5880995c54dddb31633ad816daf9e  764210923214785047    FAILED   \n",
      "3  6d4d5327b1174277a376a3b1ab8ff0e2  764210923214785047    FAILED   \n",
      "\n",
      "                                        artifact_uri  \\\n",
      "0  file:///C:/Users/JANARDHAN/Documents/Janardhan...   \n",
      "1  file:///C:/Users/JANARDHAN/Documents/Janardhan...   \n",
      "2  file:///C:/Users/JANARDHAN/Documents/Janardhan...   \n",
      "3  file:///C:/Users/JANARDHAN/Documents/Janardhan...   \n",
      "\n",
      "                        start_time                         end_time  \\\n",
      "0 2024-05-19 10:58:27.869000+00:00 2024-05-19 11:45:10.624000+00:00   \n",
      "1 2024-05-19 10:35:50.828000+00:00 2024-05-19 10:52:18.880000+00:00   \n",
      "2 2024-05-19 10:21:07.838000+00:00 2024-05-19 10:34:43.341000+00:00   \n",
      "3 2024-05-19 10:20:43.208000+00:00 2024-05-19 10:20:43.660000+00:00   \n",
      "\n",
      "   metrics.rf_training_score  metrics.gbm_training_score  \\\n",
      "0                   0.876124                    0.886799   \n",
      "1                        NaN                         NaN   \n",
      "2                        NaN                         NaN   \n",
      "3                        NaN                         NaN   \n",
      "\n",
      "  params.gbm_n_estimators params.n_estimators params.rf_max_depth  \\\n",
      "0                    3000                5000                   6   \n",
      "1                    3000                5000                   6   \n",
      "2                    3000                5000                   6   \n",
      "3                    None                None                None   \n",
      "\n",
      "  params.gbm_minimum_samples_split params.gbm_max_depth  \\\n",
      "0                                5                    6   \n",
      "1                                5                    6   \n",
      "2                                5                    6   \n",
      "3                             None                 None   \n",
      "\n",
      "  params.gbm_learning_rate tags.mlflow.runName tags.mlflow.source.type  \\\n",
      "0                     0.01    dapper-moose-795                   LOCAL   \n",
      "1                     0.01    nervous-bear-273                   LOCAL   \n",
      "2                     0.01    popular-grub-630                   LOCAL   \n",
      "3                     None    nimble-chimp-513                   LOCAL   \n",
      "\n",
      "                       tags.mlflow.log-model.history tags.mlflow.user  \\\n",
      "0  [{\"run_id\": \"b1ca96bfa6734ebba952082484b5093c\"...        JANARDHAN   \n",
      "1                                               None        JANARDHAN   \n",
      "2                                               None        JANARDHAN   \n",
      "3                                               None        JANARDHAN   \n",
      "\n",
      "                             tags.mlflow.source.name  \n",
      "0  C:\\Users\\JANARDHAN\\anaconda3\\Lib\\site-packages...  \n",
      "1  C:\\Users\\JANARDHAN\\anaconda3\\Lib\\site-packages...  \n",
      "2  C:\\Users\\JANARDHAN\\anaconda3\\Lib\\site-packages...  \n",
      "3  C:\\Users\\JANARDHAN\\anaconda3\\Lib\\site-packages...  \n"
     ]
    }
   ],
   "source": [
    "import mlflow\n",
    "\n",
    "all_runs = mlflow.search_runs(search_all_experiments=True)\n",
    "print(all_runs)"
   ]
  },
  {
   "cell_type": "code",
   "execution_count": 3,
   "id": "fd2df1c1-ee44-4dd9-be30-66d42ece55f9",
   "metadata": {},
   "outputs": [
    {
     "name": "stdout",
     "output_type": "stream",
     "text": [
      "^C\n"
     ]
    }
   ],
   "source": [
    "!mlflow models serve -p 8002 -m runs:/b1ca96bfa6734ebba952082484b5093c/random-forest-model  --no-conda"
   ]
  },
  {
   "cell_type": "code",
   "execution_count": null,
   "id": "97e67295-a29d-4e9c-8baf-20acb2ba062b",
   "metadata": {},
   "outputs": [],
   "source": []
  }
 ],
 "metadata": {
  "kernelspec": {
   "display_name": "Python 3 (ipykernel)",
   "language": "python",
   "name": "python3"
  },
  "language_info": {
   "codemirror_mode": {
    "name": "ipython",
    "version": 3
   },
   "file_extension": ".py",
   "mimetype": "text/x-python",
   "name": "python",
   "nbconvert_exporter": "python",
   "pygments_lexer": "ipython3",
   "version": "3.11.7"
  }
 },
 "nbformat": 4,
 "nbformat_minor": 5
}
